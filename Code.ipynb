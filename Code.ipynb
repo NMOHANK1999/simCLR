{
 "cells": [
  {
   "cell_type": "code",
   "execution_count": 2,
   "metadata": {
    "executionInfo": {
     "elapsed": 7755,
     "status": "ok",
     "timestamp": 1713904006489,
     "user": {
      "displayName": "Nishanth Mohankumar",
      "userId": "11451871195519374106"
     },
     "user_tz": 240
    },
    "id": "NRUhJz057_le"
   },
   "outputs": [],
   "source": [
    "# Feel free to import anything you need\n",
    "\n",
    "import numpy as np\n",
    "from PIL import Image\n",
    "\n",
    "import torch\n",
    "import torch.nn as nn\n",
    "import torch.backends.cudnn as cudnn\n",
    "import torch.nn.functional as F\n",
    "import torchvision\n",
    "from torch.optim.lr_scheduler import LambdaLR\n",
    "from torch.utils.data import DataLoader\n",
    "from torchvision.datasets import CIFAR10\n",
    "from torchvision import transforms\n",
    "from torch.utils.data import DataLoader, SubsetRandomSampler\n",
    "import torch.optim as optim\n",
    "import matplotlib.pyplot as plt\n",
    "import ipdb\n",
    "from tqdm import tqdm\n",
    "import os"
   ]
  },
  {
   "cell_type": "code",
   "execution_count": 3,
   "metadata": {
    "executionInfo": {
     "elapsed": 122,
     "status": "ok",
     "timestamp": 1713904006491,
     "user": {
      "displayName": "Nishanth Mohankumar",
      "userId": "11451871195519374106"
     },
     "user_tz": 240
    },
    "id": "lt5oHKILqIB3"
   },
   "outputs": [],
   "source": [
    "###########  Do not modify this cell ###########################\n",
    "# ===============================================================\n",
    "\n",
    "### seed everything for reproducibility\n",
    "def seed_everything():\n",
    "    seed = 24789\n",
    "    np.random.seed(seed)\n",
    "    torch.manual_seed(seed)\n",
    "    torch.cuda.manual_seed(seed)"
   ]
  },
  {
   "cell_type": "markdown",
   "metadata": {
    "id": "dI44Q5CfqdNK"
   },
   "source": [
    "# 1. Contrastive learning loss functions"
   ]
  },
  {
   "cell_type": "markdown",
   "metadata": {
    "id": "AXeDWv33dEww"
   },
   "source": [
    "## 1(a) Implement the normalized temperature-scaled cross entropy loss (NT-Xent) based on SimCLR:\n",
    "https://arxiv.org/pdf/2002.05709.pdf"
   ]
  },
  {
   "cell_type": "markdown",
   "metadata": {
    "id": "Io80AHLvn5Wo"
   },
   "source": [
    "\\begin{equation}\n",
    "\\ell_{i, j}=-\\log \\frac{\\exp \\left(\\operatorname{sim}\\left(\\boldsymbol{z}_i, \\boldsymbol{z}_j\\right) / \\tau\\right)}{\\sum_{k=1}^{2 N}  \\mathbb{1}_{[k \\neq i]} \\exp \\left(\\operatorname{sim}\\left(\\boldsymbol{z}_i, \\boldsymbol{z}_k\\right) / \\tau\\right)}\n",
    "\\end{equation}"
   ]
  },
  {
   "cell_type": "code",
   "execution_count": 4,
   "metadata": {
    "executionInfo": {
     "elapsed": 120,
     "status": "ok",
     "timestamp": 1713904006492,
     "user": {
      "displayName": "Nishanth Mohankumar",
      "userId": "11451871195519374106"
     },
     "user_tz": 240
    },
    "id": "Ax5Ha3k-c2LQ"
   },
   "outputs": [],
   "source": [
    "def nt_xent(x, t=0.5):\n",
    "    \"\"\"\n",
    "    1. Normalize across the second dimension\n",
    "    2. Compute the normalized cosine similarity scores between x and its transpose\n",
    "    3. Scale the normalized cosine similarity scores x_scores by dividing them by a temperature\n",
    "\n",
    "    \"\"\"\n",
    "    t = torch.tensor(t, device= x.device)\n",
    "    # 1. Normalize across the second dimension\n",
    "    x = (x - torch.mean(x, dim = 0)) / torch.std(x, dim = 0)\n",
    "\n",
    "    # 2. Compute the normalized cosine similarity scores between x and its transpose and scale the with temperature\n",
    "    x_scores = F.cosine_similarity(x[None, :, :], x[:, None, :], dim= -1)\n",
    "\n",
    "    # Subtract a diagonal matrix with large negative values from x_scale to set the diagonals to be zeros after softmax.\n",
    "    #x_scale = x_scale - torch.eye(x_scale.size(0)).to(x_scale.device) * 1e5\n",
    "    x_scores[torch.eye(x.size(0)).bool()] = float(\"-inf\")\n",
    "\n",
    "    # targets 2N elements.\n",
    "    targets = torch.arange(x.size()[0], device= x.device)\n",
    "    targets[::2] += 1  # target of 2k element is 2k+1\n",
    "    targets[1::2] -= 1  # target of 2k+1 element is 2k\n",
    "\n",
    "    # 3 . Compute the cross entropy loss between x_scale and target and return the computed loss\n",
    "    loss = F.cross_entropy(x_scores/t, targets, reduction = \"mean\")\n",
    "    #ipdb.set_trace()\n",
    "\n",
    "    return loss"
   ]
  },
  {
   "cell_type": "code",
   "execution_count": 5,
   "metadata": {
    "colab": {
     "base_uri": "https://localhost:8080/"
    },
    "executionInfo": {
     "elapsed": 118,
     "status": "ok",
     "timestamp": 1713904006493,
     "user": {
      "displayName": "Nishanth Mohankumar",
      "userId": "11451871195519374106"
     },
     "user_tz": 240
    },
    "id": "6rhf-WxNoObF",
    "outputId": "fc58f225-23dc-4ad4-f6a1-7299511ace5e"
   },
   "outputs": [
    {
     "name": "stdout",
     "output_type": "stream",
     "text": [
      "z: \n",
      " tensor([[-0.2997, -0.6194, -0.4414],\n",
      "        [-1.2945, -0.1358, -0.2589],\n",
      "        [-0.7526,  0.4345, -0.9680],\n",
      "        [ 0.8034, -2.5620,  0.9044]])\n",
      "Loss: \n",
      " tensor(1.8532)\n"
     ]
    }
   ],
   "source": [
    "seed_everything()\n",
    "z = torch.randn(4,3)\n",
    "t = 0.7\n",
    "loss = nt_xent(z, t)\n",
    "print(\"z: \\n\", z)\n",
    "print(\"Loss: \\n\", loss)"
   ]
  },
  {
   "cell_type": "markdown",
   "metadata": {
    "id": "WImNc2GUqY9S"
   },
   "source": [
    "## 1 (b) Implement Barlow twins loss function\n",
    "https://arxiv.org/pdf/2103.03230.pdf\n"
   ]
  },
  {
   "cell_type": "markdown",
   "metadata": {
    "id": "uOi6AEu4kD5b"
   },
   "source": [
    "Cross correlation matrix\n",
    "\\begin{equation}\n",
    "\\mathcal{C}_{i j} \\triangleq \\frac{\\sum_b z_{b, i}^A z_{b, j}^B}{\\sqrt{\\sum_b\\left(z_{b, i}^A\\right)^2} \\sqrt{\\sum_b\\left(z_{b, j}^B\\right)^2}}\n",
    "\\end{equation}\n",
    "Barlow Twins loss\n",
    "\n",
    "\\begin{equation}\n",
    "\\mathcal{L}_{\\mathcal{B} \\mathcal{T}} \\triangleq \\sum_i\\left(1-\\mathcal{C}_{i i}\\right)^2+\\lambda \\quad \\sum_i \\sum_{j \\neq i} \\mathcal{C}_{i j}^2\n",
    "\\end{equation}"
   ]
  },
  {
   "cell_type": "code",
   "execution_count": 6,
   "metadata": {
    "executionInfo": {
     "elapsed": 97,
     "status": "ok",
     "timestamp": 1713904006494,
     "user": {
      "displayName": "Nishanth Mohankumar",
      "userId": "11451871195519374106"
     },
     "user_tz": 240
    },
    "id": "PlmHoKI9chQU"
   },
   "outputs": [],
   "source": [
    "def off_diag_elems(x):\n",
    "    \"\"\"\n",
    "    Compute the flattened view of the off-diagonal elements of a matrix\n",
    "\n",
    "    \"\"\"\n",
    "    #FILLIN\n",
    "    n = x.shape[0]\n",
    "    mask = torch.eye(n, dtype= bool, device= x.device)\n",
    "    mask = ~mask\n",
    "    off = x[mask].view(-1)\n",
    "    #import ipdb; ipdb.set_trace()\n",
    "    return off\n",
    "\n",
    "def barlow_twins(z1, z2, lamda, batch_size):\n",
    "    \"\"\"\n",
    "    z1 and z2 are the output image representations\n",
    "    1. Normalize the representations across the batch dimension (dim=0)\n",
    "    2. Compute the cross correlation matrix (given in the equation above)\n",
    "    3. Compute the barlow twins loss by following the equations given above\n",
    "\n",
    "    \"\"\"\n",
    "    #FILLIN\n",
    "    z1 = (z1 - z1.mean(0)) / z1.std(0)\n",
    "    z2 = (z2 - z2.mean(0)) / z2.std(0)\n",
    "\n",
    "    #is this correct?\n",
    "    cross_cor = (z1 @ z2.T) / batch_size\n",
    "\n",
    "    loss = torch.sum((1 - torch.diagonal(cross_cor))**2) + lamda * torch.sum(off_diag_elems(cross_cor)**2)\n",
    "\n",
    "    return loss"
   ]
  },
  {
   "cell_type": "code",
   "execution_count": 7,
   "metadata": {
    "colab": {
     "base_uri": "https://localhost:8080/"
    },
    "executionInfo": {
     "elapsed": 96,
     "status": "ok",
     "timestamp": 1713904006496,
     "user": {
      "displayName": "Nishanth Mohankumar",
      "userId": "11451871195519374106"
     },
     "user_tz": 240
    },
    "id": "IY7mgqQnjkFi",
    "outputId": "6f3e07b3-11c6-4817-ced9-022e30c2dc2d"
   },
   "outputs": [
    {
     "name": "stdout",
     "output_type": "stream",
     "text": [
      "z1: \n",
      " tensor([[-0.6637, -2.2035, -0.5497,  0.1591],\n",
      "        [-0.8427, -0.3029, -1.2701, -0.8752],\n",
      "        [ 0.1743, -0.6272, -0.5871, -1.7928],\n",
      "        [-1.7089,  0.2134, -0.3203, -0.3736]])\n",
      "z2: \n",
      " tensor([[ 0.6968,  1.8388, -0.9387, -0.4800],\n",
      "        [-1.4524,  1.3257,  0.9204, -0.5180],\n",
      "        [-1.0516, -0.5895,  0.5390,  0.0944],\n",
      "        [-1.7974,  0.0804,  0.7257,  0.9933]])\n",
      "Loss: \n",
      " tensor(5.5671)\n"
     ]
    }
   ],
   "source": [
    "seed_everything()\n",
    "\n",
    "N = 4\n",
    "z1 = torch.randn(N, 4)\n",
    "z2 = torch.randn(N, 4)\n",
    "lamda = 5e-3\n",
    "\n",
    "loss = barlow_twins(z1, z2, lamda, N)\n",
    "\n",
    "print(\"z1: \\n\", z1)\n",
    "print(\"z2: \\n\", z2)\n",
    "print(\"Loss: \\n\", loss)"
   ]
  },
  {
   "cell_type": "markdown",
   "metadata": {
    "id": "emZ4VWK7nWvr"
   },
   "source": [
    "# 2. Implement the SimCLR model"
   ]
  },
  {
   "cell_type": "code",
   "execution_count": 8,
   "metadata": {
    "executionInfo": {
     "elapsed": 78,
     "status": "ok",
     "timestamp": 1713904006497,
     "user": {
      "displayName": "Nishanth Mohankumar",
      "userId": "11451871195519374106"
     },
     "user_tz": 240
    },
    "id": "Txvy1HDAc7P5"
   },
   "outputs": [],
   "source": [
    "class SimCLR(nn.Module):\n",
    "    def __init__(self, base_encoder, projection_dim):\n",
    "        super().__init__()\n",
    "        self.enc = base_encoder(weights=False)\n",
    "        self.feature_dim = self.enc.fc.in_features\n",
    "\n",
    "        # Modifying the base encoder as mentioned in B4 of SimCLR\n",
    "        self.enc.conv1 = nn.Conv2d(3, 64, 3, 1, 1, bias=False)\n",
    "        self.enc.maxpool = nn.Identity()\n",
    "        self.enc.fc = nn.Identity()\n",
    "\n",
    "        # Add MLP projection.\n",
    "        self.projection_dim = projection_dim\n",
    "        self.projector = nn.Sequential(nn.Linear(self.feature_dim, 2048),\n",
    "                                       nn.ReLU(),\n",
    "                                       nn.Linear(2048, projection_dim))\n",
    "\n",
    "    def forward(self, x):\n",
    "\n",
    "        ######## Define the forward function ############################\n",
    "        feature = self.enc(x)\n",
    "        projection = self.projector(feature)\n",
    "        return feature, projection\n"
   ]
  },
  {
   "cell_type": "code",
   "execution_count": 9,
   "metadata": {
    "executionInfo": {
     "elapsed": 78,
     "status": "ok",
     "timestamp": 1713904006499,
     "user": {
      "displayName": "Nishanth Mohankumar",
      "userId": "11451871195519374106"
     },
     "user_tz": 240
    },
    "id": "xpsD3lHyd7Vh"
   },
   "outputs": [],
   "source": [
    "###########  Do not modify this cell ###########################\n",
    "# ===============================================================\n",
    "class AverageMeter(object):\n",
    "    \"\"\"Computes and stores the average and current value\"\"\"\n",
    "    def __init__(self, name):\n",
    "        self.name = name\n",
    "        self.reset()\n",
    "\n",
    "    def reset(self):\n",
    "        self.val = 0\n",
    "        self.avg = 0\n",
    "        self.sum = 0\n",
    "        self.count = 0\n",
    "\n",
    "    def update(self, val, n=1):\n",
    "        self.val = val\n",
    "        self.sum += val * n\n",
    "        self.count += n\n",
    "        self.avg = self.sum / self.count"
   ]
  },
  {
   "cell_type": "markdown",
   "metadata": {
    "id": "KMRlattQyClH"
   },
   "source": [
    "Creating pairs of image on the training set"
   ]
  },
  {
   "cell_type": "code",
   "execution_count": 10,
   "metadata": {
    "executionInfo": {
     "elapsed": 75,
     "status": "ok",
     "timestamp": 1713904006500,
     "user": {
      "displayName": "Nishanth Mohankumar",
      "userId": "11451871195519374106"
     },
     "user_tz": 240
    },
    "id": "9UUWeeUKgH8Z"
   },
   "outputs": [],
   "source": [
    "###########  Do not modify this cell ###########################\n",
    "# ===============================================================\n",
    "\n",
    "class CIFAR10Pair(CIFAR10):\n",
    "    \"\"\"Generate mini-batche pairs on CIFAR10 training set.\"\"\"\n",
    "    def __getitem__(self, idx):\n",
    "        img, target = self.data[idx], self.targets[idx]\n",
    "        img = Image.fromarray(img)\n",
    "        imgs = [self.transform(img), self.transform(img)]\n",
    "        return torch.stack(imgs), target  # stack a positive pair"
   ]
  },
  {
   "cell_type": "markdown",
   "metadata": {
    "id": "DZyRK1GGyQg-"
   },
   "source": [
    "#3. Define the transformations, dataloaders, model, optimizer, scheduler and parameters required for training"
   ]
  },
  {
   "cell_type": "code",
   "execution_count": 11,
   "metadata": {
    "colab": {
     "base_uri": "https://localhost:8080/"
    },
    "executionInfo": {
     "elapsed": 74,
     "status": "ok",
     "timestamp": 1713904006502,
     "user": {
      "displayName": "Nishanth Mohankumar",
      "userId": "11451871195519374106"
     },
     "user_tz": 240
    },
    "id": "r8TI5Ts910fk",
    "outputId": "55f847de-9732-4d7d-8e4e-ee3d64e44478"
   },
   "outputs": [
    {
     "name": "stdout",
     "output_type": "stream",
     "text": [
      "5e-05\n"
     ]
    }
   ],
   "source": [
    "############ Define the parameters for training ##############\n",
    "#as high batch size as possible as per paper 256 - 8192, use lars stabiloizer since sgd/momentum is bad for high batch size\n",
    "batch_size = 128\n",
    "projection_dim = 128\n",
    "learning_rate =  0.15\n",
    "momentum = 0.9\n",
    "weight_decay = 10e-6\n",
    "epochs = 100\n",
    "\n",
    "print(5e-5)"
   ]
  },
  {
   "cell_type": "code",
   "execution_count": 12,
   "metadata": {
    "colab": {
     "base_uri": "https://localhost:8080/"
    },
    "executionInfo": {
     "elapsed": 18300,
     "status": "ok",
     "timestamp": 1713904025455,
     "user": {
      "displayName": "Nishanth Mohankumar",
      "userId": "11451871195519374106"
     },
     "user_tz": 240
    },
    "id": "gSKk3wpueZBW",
    "outputId": "44f7f5e5-4fe4-475b-f86c-06878182f87b"
   },
   "outputs": [
    {
     "name": "stdout",
     "output_type": "stream",
     "text": [
      "Downloading https://www.cs.toronto.edu/~kriz/cifar-10-python.tar.gz to /content/cifar-10-python.tar.gz\n"
     ]
    },
    {
     "name": "stderr",
     "output_type": "stream",
     "text": [
      "100%|██████████| 170498071/170498071 [00:12<00:00, 13120219.78it/s]\n"
     ]
    },
    {
     "name": "stdout",
     "output_type": "stream",
     "text": [
      "Extracting /content/cifar-10-python.tar.gz to /content\n"
     ]
    }
   ],
   "source": [
    "assert torch.cuda.is_available()\n",
    "cudnn.benchmark = True\n",
    "\n",
    "######### Define the transformation on the training set\n",
    "### Refer to the paper to understand which transformations to use ######\n",
    "#random cropping followed by resize back to the original size, random color distortions, and random Gaussian blur\n",
    "\n",
    "train_transform = transforms.Compose([\n",
    "    transforms.RandomCrop((8, 8)),\n",
    "    transforms.Resize((32, 32)),\n",
    "    transforms.GaussianBlur(kernel_size= 3),\n",
    "    transforms.ColorJitter(),\n",
    "    transforms.ToTensor()\n",
    "])\n",
    "\n",
    "##### get absolute path of data dir\n",
    "\n",
    "data_dir = \"/content\"\n",
    "\n",
    "\n",
    "########## Define the train set and train dataloader and shuffle the train set\n",
    "\n",
    "train_set = CIFAR10Pair(root=data_dir,\n",
    "                        train=True,\n",
    "                        transform=train_transform,\n",
    "                        download=True)\n",
    "\n",
    "train_loader = DataLoader(train_set, batch_size= batch_size, shuffle= True)\n",
    "\n",
    "\n"
   ]
  },
  {
   "cell_type": "code",
   "execution_count": 14,
   "metadata": {
    "executionInfo": {
     "elapsed": 1491,
     "status": "ok",
     "timestamp": 1713904050865,
     "user": {
      "displayName": "Nishanth Mohankumar",
      "userId": "11451871195519374106"
     },
     "user_tz": 240
    },
    "id": "bgXhTLsXncDm"
   },
   "outputs": [],
   "source": [
    "######## Define the base encoder(resnet18) -- load from torchvision.models without pretraining\n",
    "\n",
    "base_encoder = torchvision.models.resnet18\n",
    "model = SimCLR(base_encoder= base_encoder, projection_dim= projection_dim)\n",
    "#model.load_state_dict(torch.load(\"simclr_epoch71.pth\"))\n",
    "model = model.cuda()\n",
    "\n",
    "########### Define the optimizer and scheduler for training #######################\n",
    "\n",
    "#supposed to use LARS\n",
    "optimizer = optim.SGD(params= model.parameters(), lr = learning_rate, momentum= momentum, weight_decay= weight_decay)\n",
    "\n",
    "scheduler = optim.lr_scheduler.CosineAnnealingWarmRestarts(optimizer= optimizer, T_0= 10, T_mult= 1)\n"
   ]
  },
  {
   "cell_type": "code",
   "execution_count": 15,
   "metadata": {
    "executionInfo": {
     "elapsed": 380,
     "status": "ok",
     "timestamp": 1713904058623,
     "user": {
      "displayName": "Nishanth Mohankumar",
      "userId": "11451871195519374106"
     },
     "user_tz": 240
    },
    "id": "XT-fhx2bc2V6"
   },
   "outputs": [],
   "source": [
    "def train(args) -> None:\n",
    "    # SimCLR training\n",
    "    model.train()\n",
    "    best_loss = np.inf\n",
    "    for epoch in range(1, args['epochs'] + 1):\n",
    "        loss_meter = AverageMeter(\"SimCLR_loss\")\n",
    "        train_bar = tqdm(train_loader)\n",
    "        for x, y in train_bar:\n",
    "            sizes = x.size()\n",
    "            #ipdb.set_trace()\n",
    "            x = x.view(sizes[0] * 2, sizes[2], sizes[3], sizes[4]).cuda(non_blocking=True)\n",
    "            #ipdb.set_trace()\n",
    "            optimizer.zero_grad()\n",
    "\n",
    "            ####### Get the output from the model ################\n",
    "\n",
    "            feature, rep = model(x)\n",
    "\n",
    "            ###### Compute the loss using nt-cross entropy loss  #####################################\n",
    "            #ipdb.set_trace()\n",
    "\n",
    "            loss = nt_xent(rep, args[\"temperature\"])\n",
    "            loss.backward()\n",
    "            optimizer.step()\n",
    "            scheduler.step()\n",
    "\n",
    "            loss_meter.update(loss.item(), x.size(0))\n",
    "            train_bar.set_description(\"Train epoch {}, SimCLR loss: {:.4f}\".format(epoch, loss_meter.avg))\n",
    "            if loss.item() < best_loss:\n",
    "                best_loss = loss.item()\n",
    "                PATH = \"simclr_best_epoch.pth\"\n",
    "                #ipdb.set_trace()\n",
    "                #torch.save(model.state_dict(), file_path)\n",
    "                if os.path.exists(PATH):\n",
    "                    os.remove(PATH)\n",
    "                torch.save(model.state_dict(), PATH)\n"
   ]
  },
  {
   "cell_type": "code",
   "execution_count": 16,
   "metadata": {
    "executionInfo": {
     "elapsed": 6,
     "status": "ok",
     "timestamp": 1713904062862,
     "user": {
      "displayName": "Nishanth Mohankumar",
      "userId": "11451871195519374106"
     },
     "user_tz": 240
    },
    "id": "zNfD8KQkeCmS"
   },
   "outputs": [],
   "source": [
    "args = {\n",
    "    'epochs':  epochs,\n",
    "    'batch_size':  batch_size,\n",
    "    'temperature': 0.7,\n",
    "}\n",
    "\n",
    "#commenting out the training call\n",
    "#train(args)"
   ]
  },
  {
   "cell_type": "markdown",
   "metadata": {
    "id": "BmgKAHPnTz_d"
   },
   "source": [
    "# Finetuning and testing the saved model"
   ]
  },
  {
   "cell_type": "code",
   "execution_count": 39,
   "metadata": {
    "executionInfo": {
     "elapsed": 3,
     "status": "ok",
     "timestamp": 1713910086128,
     "user": {
      "displayName": "Nishanth Mohankumar",
      "userId": "11451871195519374106"
     },
     "user_tz": 240
    },
    "id": "9BBAXJwiTzQG"
   },
   "outputs": [],
   "source": [
    "###########  Do not modify this cell ###########################\n",
    "# ===============================================================\n",
    "class LinModel(nn.Module):\n",
    "    \"\"\"Linear wrapper of encoder.\"\"\"\n",
    "    def __init__(self, encoder: nn.Module, feature_dim: int, n_classes: int):\n",
    "        super().__init__()\n",
    "        self.enc = encoder\n",
    "        self.feature_dim = feature_dim\n",
    "        self.n_classes = n_classes\n",
    "        self.lin = nn.Linear(self.feature_dim, self.n_classes)\n",
    "\n",
    "    def forward(self, x):\n",
    "        x = self.enc(x)\n",
    "        x = self.lin(x)\n",
    "        return x"
   ]
  },
  {
   "cell_type": "code",
   "execution_count": 40,
   "metadata": {
    "executionInfo": {
     "elapsed": 13,
     "status": "ok",
     "timestamp": 1713910086834,
     "user": {
      "displayName": "Nishanth Mohankumar",
      "userId": "11451871195519374106"
     },
     "user_tz": 240
    },
    "id": "u1lM-GlnTzYa"
   },
   "outputs": [],
   "source": [
    "###########  Do not modify this cell ###########################\n",
    "# ===============================================================\n",
    "\n",
    "def run_epoch(model, dataloader, epoch, optimizer=None, scheduler=None):\n",
    "    if optimizer:\n",
    "        model.train()\n",
    "        print(\"training...........\")\n",
    "    else:\n",
    "        model.eval()\n",
    "        print(\"eval...............\")\n",
    "\n",
    "    loss_meter = AverageMeter('loss')\n",
    "    acc_meter = AverageMeter('acc')\n",
    "    loader_bar = tqdm(dataloader)\n",
    "    for x, y in loader_bar:\n",
    "        x, y = x.cuda(), y.cuda()\n",
    "        #ipdb.set_trace()\n",
    "        logits = model(x)\n",
    "        loss = F.cross_entropy(logits, y)\n",
    "\n",
    "        if optimizer:\n",
    "            optimizer.zero_grad()\n",
    "            loss.backward()\n",
    "            optimizer.step()\n",
    "            if scheduler:\n",
    "                scheduler.step()\n",
    "\n",
    "        acc = (logits.argmax(dim=1) == y).float().mean()\n",
    "        loss_meter.update(loss.item(), x.size(0))\n",
    "        acc_meter.update(acc.item(), x.size(0))\n",
    "        if optimizer:\n",
    "            loader_bar.set_description(\"Train epoch {}, loss: {:.4f}, acc: {:.4f}\"\n",
    "                                       .format(epoch, loss_meter.avg, acc_meter.avg))\n",
    "        else:\n",
    "            loader_bar.set_description(\"Test epoch {}, loss: {:.4f}, acc: {:.4f}\"\n",
    "                                       .format(epoch, loss_meter.avg, acc_meter.avg))\n",
    "\n",
    "    return loss_meter.avg, acc_meter.avg"
   ]
  },
  {
   "cell_type": "code",
   "execution_count": 41,
   "metadata": {
    "colab": {
     "base_uri": "https://localhost:8080/"
    },
    "executionInfo": {
     "elapsed": 2940,
     "status": "ok",
     "timestamp": 1713910089762,
     "user": {
      "displayName": "Nishanth Mohankumar",
      "userId": "11451871195519374106"
     },
     "user_tz": 240
    },
    "id": "ZVZdfHCGZhu1",
    "outputId": "00b72dad-4363-478c-df41-daea7d9c0215"
   },
   "outputs": [
    {
     "name": "stdout",
     "output_type": "stream",
     "text": [
      "Files already downloaded and verified\n",
      "Files already downloaded and verified\n"
     ]
    },
    {
     "name": "stderr",
     "output_type": "stream",
     "text": [
      "/usr/local/lib/python3.10/dist-packages/torchvision/models/_utils.py:223: UserWarning: Arguments other than a weight enum or `None` for 'weights' are deprecated since 0.13 and may be removed in the future. The current behavior is equivalent to passing `weights=None`.\n",
      "  warnings.warn(msg)\n"
     ]
    }
   ],
   "source": [
    "############################################ Define train and test transforms #########################################################\n",
    "### Refer to the paper to understand which transformations to use ######\n",
    "\n",
    "batch_size = 256\n",
    "learning_rate = 0.3\n",
    "epochs = 10\n",
    "\n",
    "train_transform = transforms.Compose([\n",
    "    transforms.RandomResizedCrop(32, scale =(0.2, 1.0)),\n",
    "    transforms.RandomHorizontalFlip(),\n",
    "    transforms.RandomApply([\n",
    "        transforms.ColorJitter(0.4, 0.4, 0.4, 0.1)\n",
    "    ], p = 0.8),\n",
    "    transforms.RandomGrayscale(p= 0.2),\n",
    "    transforms.RandomRotation(15),\n",
    "    transforms.GaussianBlur(kernel_size= 3, sigma = (0.1, 2.0)),\n",
    "    transforms.ColorJitter(),\n",
    "    transforms.ToTensor(),\n",
    "    transforms.Normalize([0.4914, 0.4822, 0.4465], [0.247, 0.243, 0.261])\n",
    "])\n",
    "test_transform = transforms.Compose([\n",
    "    transforms.Resize((32, 32)),\n",
    "    transforms.CenterCrop((32, 32)),\n",
    "    transforms.ToTensor(),\n",
    "    transforms.Normalize([0.4914, 0.4822, 0.4465], [0.247, 0.243, 0.261])\n",
    "])\n",
    "\n",
    "data_dir = '/content'\n",
    "\n",
    "###################################### Define train and test dataloader #########################################\n",
    "\n",
    "train_set = CIFAR10(root=data_dir,\n",
    "                        train=True,\n",
    "                        transform=train_transform,\n",
    "                        download=True)\n",
    "test_set = CIFAR10(root=data_dir,\n",
    "                        train=False,\n",
    "                        transform=test_transform,\n",
    "                        download=True)\n",
    "\n",
    "n_classes = 10\n",
    "\n",
    "train_loader = DataLoader(train_set, batch_size= batch_size, shuffle= True)\n",
    "test_loader = DataLoader(test_set, batch_size= batch_size, shuffle= True)\n",
    "\n",
    "################################ Define the model and load the trained weights of the best model ##############################\n",
    "\"\"\"\n",
    "Load the weights for the best SimCLR model and pass the encoder to LinModel for fine-tuning\n",
    "\"\"\"\n",
    "base_encoder = torchvision.models.resnet18\n",
    "pre_model = SimCLR(base_encoder= base_encoder, projection_dim= projection_dim)\n",
    "pre_model.load_state_dict(torch.load(\"simclr_best_epoch.pt\"))\n",
    "model = LinModel(pre_model.enc, feature_dim=pre_model.feature_dim, n_classes=len(train_set.targets))\n",
    "#loading a previous run model\n",
    "#model.load_state_dict(torch.load(\"simclr_lin_best.pt\"))\n",
    "model = model.cuda()\n",
    "\n",
    "# Fix encoder\n",
    "model.enc.requires_grad = False\n",
    "parameters = [param for param in model.parameters() if param.requires_grad is True]  # trainable parameters.\n",
    "\n",
    "############################# Define the optimizer and scheduler ###################################################\n",
    "optimizer = optim.SGD(params= parameters, lr = learning_rate, momentum= momentum, weight_decay= weight_decay)\n",
    "\n",
    "#No restart, and warmup 10, and cosine lr_sceduler\n",
    "scheduler = optim.lr_scheduler.CosineAnnealingWarmRestarts(optimizer= optimizer, T_0= 10, T_mult= 1)"
   ]
  },
  {
   "cell_type": "code",
   "execution_count": 42,
   "metadata": {
    "executionInfo": {
     "elapsed": 16,
     "status": "ok",
     "timestamp": 1713910089762,
     "user": {
      "displayName": "Nishanth Mohankumar",
      "userId": "11451871195519374106"
     },
     "user_tz": 240
    },
    "id": "g2XRPeRATzbV"
   },
   "outputs": [],
   "source": [
    "###########  Do not modify this cell ###########################\n",
    "# ===============================================================\n",
    "\n",
    "def finetune() -> None:\n",
    "    optimal_loss, optimal_acc = 1e5, 0.\n",
    "    train_losses, test_losses = [], []\n",
    "    train_accuracies, test_accuracies = [], []\n",
    "    for epoch in range(1, epochs + 1):\n",
    "        train_loss, train_acc = run_epoch(model, train_loader, epoch, optimizer, scheduler)\n",
    "        train_losses.append(train_loss)\n",
    "        train_accuracies.append(train_acc)\n",
    "        test_loss, test_acc = run_epoch(model, test_loader, epoch)\n",
    "        test_losses.append(test_loss)\n",
    "        test_accuracies.append(test_acc)\n",
    "\n",
    "        if train_loss < optimal_loss:\n",
    "            optimal_loss = train_loss\n",
    "            optimal_acc = test_acc\n",
    "            torch.save(model.state_dict(), 'simclr_lin_best.pt')\n",
    "\n",
    "    return train_losses, train_accuracies, test_losses, test_accuracies"
   ]
  },
  {
   "cell_type": "code",
   "execution_count": 43,
   "metadata": {
    "colab": {
     "base_uri": "https://localhost:8080/"
    },
    "executionInfo": {
     "elapsed": 1386225,
     "status": "ok",
     "timestamp": 1713911475973,
     "user": {
      "displayName": "Nishanth Mohankumar",
      "userId": "11451871195519374106"
     },
     "user_tz": 240
    },
    "id": "IbSR0nWqTzeg",
    "outputId": "6c7a001e-50e4-483d-c2e7-454db58ef51a"
   },
   "outputs": [
    {
     "name": "stdout",
     "output_type": "stream",
     "text": [
      "training...........\n"
     ]
    },
    {
     "name": "stderr",
     "output_type": "stream",
     "text": [
      "Train epoch 1, loss: 0.7109, acc: 0.7512: 100%|██████████| 196/196 [02:11<00:00,  1.49it/s]\n"
     ]
    },
    {
     "name": "stdout",
     "output_type": "stream",
     "text": [
      "eval...............\n"
     ]
    },
    {
     "name": "stderr",
     "output_type": "stream",
     "text": [
      "Test epoch 1, loss: 0.5169, acc: 0.8221: 100%|██████████| 40/40 [00:05<00:00,  7.43it/s]\n"
     ]
    },
    {
     "name": "stdout",
     "output_type": "stream",
     "text": [
      "training...........\n"
     ]
    },
    {
     "name": "stderr",
     "output_type": "stream",
     "text": [
      "Train epoch 2, loss: 0.6460, acc: 0.7756: 100%|██████████| 196/196 [02:12<00:00,  1.48it/s]\n"
     ]
    },
    {
     "name": "stdout",
     "output_type": "stream",
     "text": [
      "eval...............\n"
     ]
    },
    {
     "name": "stderr",
     "output_type": "stream",
     "text": [
      "Test epoch 2, loss: 0.4664, acc: 0.8371: 100%|██████████| 40/40 [00:05<00:00,  7.52it/s]\n"
     ]
    },
    {
     "name": "stdout",
     "output_type": "stream",
     "text": [
      "training...........\n"
     ]
    },
    {
     "name": "stderr",
     "output_type": "stream",
     "text": [
      "Train epoch 3, loss: 0.6288, acc: 0.7793: 100%|██████████| 196/196 [02:13<00:00,  1.47it/s]\n"
     ]
    },
    {
     "name": "stdout",
     "output_type": "stream",
     "text": [
      "eval...............\n"
     ]
    },
    {
     "name": "stderr",
     "output_type": "stream",
     "text": [
      "Test epoch 3, loss: 0.4409, acc: 0.8464: 100%|██████████| 40/40 [00:05<00:00,  7.08it/s]\n"
     ]
    },
    {
     "name": "stdout",
     "output_type": "stream",
     "text": [
      "training...........\n"
     ]
    },
    {
     "name": "stderr",
     "output_type": "stream",
     "text": [
      "Train epoch 4, loss: 0.6064, acc: 0.7873: 100%|██████████| 196/196 [02:15<00:00,  1.45it/s]\n"
     ]
    },
    {
     "name": "stdout",
     "output_type": "stream",
     "text": [
      "eval...............\n"
     ]
    },
    {
     "name": "stderr",
     "output_type": "stream",
     "text": [
      "Test epoch 4, loss: 0.4239, acc: 0.8536: 100%|██████████| 40/40 [00:05<00:00,  7.31it/s]\n"
     ]
    },
    {
     "name": "stdout",
     "output_type": "stream",
     "text": [
      "training...........\n"
     ]
    },
    {
     "name": "stderr",
     "output_type": "stream",
     "text": [
      "Train epoch 5, loss: 0.5729, acc: 0.8001: 100%|██████████| 196/196 [02:14<00:00,  1.45it/s]\n"
     ]
    },
    {
     "name": "stdout",
     "output_type": "stream",
     "text": [
      "eval...............\n"
     ]
    },
    {
     "name": "stderr",
     "output_type": "stream",
     "text": [
      "Test epoch 5, loss: 0.4308, acc: 0.8530: 100%|██████████| 40/40 [00:05<00:00,  7.60it/s]\n"
     ]
    },
    {
     "name": "stdout",
     "output_type": "stream",
     "text": [
      "training...........\n"
     ]
    },
    {
     "name": "stderr",
     "output_type": "stream",
     "text": [
      "Train epoch 6, loss: 0.5601, acc: 0.8045: 100%|██████████| 196/196 [02:12<00:00,  1.48it/s]\n"
     ]
    },
    {
     "name": "stdout",
     "output_type": "stream",
     "text": [
      "eval...............\n"
     ]
    },
    {
     "name": "stderr",
     "output_type": "stream",
     "text": [
      "Test epoch 6, loss: 0.4042, acc: 0.8582: 100%|██████████| 40/40 [00:05<00:00,  7.89it/s]\n"
     ]
    },
    {
     "name": "stdout",
     "output_type": "stream",
     "text": [
      "training...........\n"
     ]
    },
    {
     "name": "stderr",
     "output_type": "stream",
     "text": [
      "Train epoch 7, loss: 0.5385, acc: 0.8141: 100%|██████████| 196/196 [02:12<00:00,  1.48it/s]\n"
     ]
    },
    {
     "name": "stdout",
     "output_type": "stream",
     "text": [
      "eval...............\n"
     ]
    },
    {
     "name": "stderr",
     "output_type": "stream",
     "text": [
      "Test epoch 7, loss: 0.3949, acc: 0.8670: 100%|██████████| 40/40 [00:05<00:00,  6.99it/s]\n"
     ]
    },
    {
     "name": "stdout",
     "output_type": "stream",
     "text": [
      "training...........\n"
     ]
    },
    {
     "name": "stderr",
     "output_type": "stream",
     "text": [
      "Train epoch 8, loss: 0.5316, acc: 0.8147: 100%|██████████| 196/196 [02:12<00:00,  1.48it/s]\n"
     ]
    },
    {
     "name": "stdout",
     "output_type": "stream",
     "text": [
      "eval...............\n"
     ]
    },
    {
     "name": "stderr",
     "output_type": "stream",
     "text": [
      "Test epoch 8, loss: 0.4140, acc: 0.8601: 100%|██████████| 40/40 [00:05<00:00,  7.89it/s]\n"
     ]
    },
    {
     "name": "stdout",
     "output_type": "stream",
     "text": [
      "training...........\n"
     ]
    },
    {
     "name": "stderr",
     "output_type": "stream",
     "text": [
      "Train epoch 9, loss: 0.5203, acc: 0.8176: 100%|██████████| 196/196 [02:11<00:00,  1.49it/s]\n"
     ]
    },
    {
     "name": "stdout",
     "output_type": "stream",
     "text": [
      "eval...............\n"
     ]
    },
    {
     "name": "stderr",
     "output_type": "stream",
     "text": [
      "Test epoch 9, loss: 0.4248, acc: 0.8563: 100%|██████████| 40/40 [00:05<00:00,  7.13it/s]\n"
     ]
    },
    {
     "name": "stdout",
     "output_type": "stream",
     "text": [
      "training...........\n"
     ]
    },
    {
     "name": "stderr",
     "output_type": "stream",
     "text": [
      "Train epoch 10, loss: 0.5063, acc: 0.8218: 100%|██████████| 196/196 [02:13<00:00,  1.46it/s]\n"
     ]
    },
    {
     "name": "stdout",
     "output_type": "stream",
     "text": [
      "eval...............\n"
     ]
    },
    {
     "name": "stderr",
     "output_type": "stream",
     "text": [
      "Test epoch 10, loss: 0.3574, acc: 0.8792: 100%|██████████| 40/40 [00:05<00:00,  7.95it/s]\n"
     ]
    }
   ],
   "source": [
    "###########  Do not modify this cell ###########################\n",
    "# ===============================================================\n",
    "\n",
    "train_losses, train_accuracies, test_losses, test_accuracies = finetune()\n",
    "\n"
   ]
  },
  {
   "cell_type": "code",
   "execution_count": 44,
   "metadata": {
    "colab": {
     "base_uri": "https://localhost:8080/",
     "height": 843
    },
    "executionInfo": {
     "elapsed": 788,
     "status": "ok",
     "timestamp": 1713911476724,
     "user": {
      "displayName": "Nishanth Mohankumar",
      "userId": "11451871195519374106"
     },
     "user_tz": 240
    },
    "id": "YorIk3SVZatl",
    "outputId": "b72c586b-5eb5-4654-a9e7-e34b1428adcb",
    "scrolled": false
   },
   "outputs": [
    {
     "data": {
      "image/png": "[encoded data removed]",
      "text/plain": [
       "<Figure size 640x480 with 1 Axes>"
      ]
     },
     "metadata": {},
     "output_type": "display_data"
    },
    {
     "data": {
      "image/png": "[encoded data removed]",
      "text/plain": [
       "<Figure size 640x480 with 1 Axes>"
      ]
     },
     "metadata": {},
     "output_type": "display_data"
    }
   ],
   "source": [
    "plt.plot(train_losses, label='train loss')  # simply visualize the training loss\n",
    "plt.plot(test_losses, label='test loss')\n",
    "plt.legend()\n",
    "plt.show()\n",
    "\n",
    "plt.plot(train_accuracies, label='train accuracy')  # simply visualize the training loss\n",
    "plt.plot(test_accuracies, label='test accuracy')\n",
    "plt.legend()\n",
    "plt.show()"
   ]
  },
  {
   "cell_type": "markdown",
   "metadata": {},
   "source": [
    "# Transforms for simCLR\n",
    "<br>\n",
    " <br>\n",
    " train_transform \n",
    "<br>\n",
    "\n",
    "transforms.Compose([\n",
    "    transforms.RandomCrop((8, 8)),\n",
    "    transforms.Resize((32, 32)),\n",
    "    transforms.GaussianBlur(kernel_size= 3),\n",
    "    transforms.ColorJitter(),\n",
    "    transforms.ToTensor()\n",
    "])\n",
    "<br>\n",
    "<br>\n",
    " \n",
    " \n",
    "# Transform for fine tuning :\n",
    "<br>\n",
    "<br>\n",
    " train_transform\n",
    "\n",
    "<br>\n",
    "transforms.Compose([\n",
    "    transforms.RandomResizedCrop(32, scale =(0.2, 1.0)),\n",
    "    transforms.RandomHorizontalFlip(),\n",
    "    transforms.RandomApply([\n",
    "        transforms.ColorJitter(0.4, 0.4, 0.4, 0.1)\n",
    "    ], p = 0.8),\n",
    "    transforms.RandomGrayscale(p= 0.2),\n",
    "    transforms.RandomRotation(15),\n",
    "    transforms.GaussianBlur(kernel_size= 3, sigma = (0.1, 2.0)),\n",
    "    transforms.ColorJitter(),\n",
    "    transforms.ToTensor(),\n",
    "    transforms.Normalize([0.4914, 0.4822, 0.4465], [0.247, 0.243, 0.261])\n",
    "])\n",
    "<br>\n",
    "<br>\n",
    "<br>\n",
    " test_transform\n",
    "<br>\n",
    "transforms.Compose([\n",
    "    transforms.Resize((32, 32)),\n",
    "    transforms.CenterCrop((32, 32)),\n",
    "    transforms.ToTensor(),\n",
    "    transforms.Normalize([0.4914, 0.4822, 0.4465], [0.247, 0.243, 0.261])\n",
    "])\n"
   ]
  }
 ],
 "metadata": {
  "accelerator": "GPU",
  "colab": {
   "gpuType": "T4",
   "provenance": []
  },
  "kernelspec": {
   "display_name": "Python 3 (ipykernel)",
   "language": "python",
   "name": "python3"
  },
  "language_info": {
   "codemirror_mode": {
    "name": "ipython",
    "version": 3
   },
   "file_extension": ".py",
   "mimetype": "text/x-python",
   "name": "python",
   "nbconvert_exporter": "python",
   "pygments_lexer": "ipython3",
   "version": "3.11.5"
  }
 },
 "nbformat": 4,
 "nbformat_minor": 1
}
